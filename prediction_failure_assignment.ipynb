{
 "cells": [
  {
   "cell_type": "code",
   "execution_count": 139,
   "metadata": {},
   "outputs": [],
   "source": [
    "import pickle\n",
    "import pandas as pd\n",
    "import cx_Oracle\n",
    "# from xgboost import XGBClassifier, plot_importance\n",
    "from sklearn.metrics import roc_auc_score, accuracy_score\n",
    "from sklearn.metrics import recall_score, roc_curve, confusion_matrix, precision_score\n",
    "from sklearn.metrics import f1_score\n",
    "import matplotlib.pyplot as plt\n",
    "import numpy as np\n",
    "import category_encoders as ce\n",
    "from sklearn.model_selection import train_test_split\n",
    "from sklearn.utils import resample\n",
    "\n",
    "pd.set_option('display.max_columns', None)\n",
    "import warnings\n",
    "warnings.filterwarnings('ignore')\n",
    "pd.set_option('display.float_format', '{:0.4f}'.format)"
   ]
  },
  {
   "cell_type": "code",
   "execution_count": 6,
   "metadata": {},
   "outputs": [],
   "source": [
    "# df1 = pd.DataFrame({\"Annual_Income\": [30000, 40000, 50000, 20000, 10000], \"Home_Owner\":[\"Yes\", \"Yes\", \"No\", \"Yes\", \"Yes\"], \"Age\":[40, 50, 30, 35, 30], \"Default\": [\"Yes\", \"No\", \"No\", \"Yes\", \"Yes\"]})\n",
    "# df1 = df1.drop_duplicates(subset=)\n",
    "# df1 = df1.fillna()\n",
    "\n",
    "# df1[\"Is_HOme_owner\"] = np.where(df1[\"Home_Owner\"]==\"Yes\", 1,0)\n",
    "# df1[\"Age_less_than\"] = np.where(df1[\"Age\"] <= 40, 1, 0)\n",
    "\n",
    "# from sklearn.ensemble import RandomForestClassifier\n",
    "# from sklearn.model_selection import train_test_split\n",
    "\n",
    "# y_train = df1.Default\n",
    "# X_train = df1.drop(columns=[\"Default\", \"Home_Owner\", \"Age\"])\n",
    "\n",
    "# target = np.where(df1[\"Default\"]==\"Yes\", 1,0)\n",
    "\n",
    "# rf = RandomForestClassifier(n_estimators=5, random_state=3)\n",
    "# rf.fit(X_train, target)\n"
   ]
  },
  {
   "cell_type": "code",
   "execution_count": 2,
   "metadata": {},
   "outputs": [
    {
     "data": {
      "text/html": [
       "<div>\n",
       "<style scoped>\n",
       "    .dataframe tbody tr th:only-of-type {\n",
       "        vertical-align: middle;\n",
       "    }\n",
       "\n",
       "    .dataframe tbody tr th {\n",
       "        vertical-align: top;\n",
       "    }\n",
       "\n",
       "    .dataframe thead th {\n",
       "        text-align: right;\n",
       "    }\n",
       "</style>\n",
       "<table border=\"1\" class=\"dataframe\">\n",
       "  <thead>\n",
       "    <tr style=\"text-align: right;\">\n",
       "      <th></th>\n",
       "      <th>date</th>\n",
       "      <th>device</th>\n",
       "      <th>failure</th>\n",
       "      <th>metric1</th>\n",
       "      <th>metric2</th>\n",
       "      <th>metric3</th>\n",
       "      <th>metric4</th>\n",
       "      <th>metric5</th>\n",
       "      <th>metric6</th>\n",
       "      <th>metric7</th>\n",
       "      <th>metric8</th>\n",
       "      <th>metric9</th>\n",
       "    </tr>\n",
       "  </thead>\n",
       "  <tbody>\n",
       "    <tr>\n",
       "      <th>0</th>\n",
       "      <td>1/1/2015</td>\n",
       "      <td>S1F01085</td>\n",
       "      <td>0</td>\n",
       "      <td>215630672</td>\n",
       "      <td>55</td>\n",
       "      <td>0</td>\n",
       "      <td>52</td>\n",
       "      <td>6</td>\n",
       "      <td>407438</td>\n",
       "      <td>0</td>\n",
       "      <td>0</td>\n",
       "      <td>7</td>\n",
       "    </tr>\n",
       "    <tr>\n",
       "      <th>1</th>\n",
       "      <td>1/1/2015</td>\n",
       "      <td>S1F0166B</td>\n",
       "      <td>0</td>\n",
       "      <td>61370680</td>\n",
       "      <td>0</td>\n",
       "      <td>3</td>\n",
       "      <td>0</td>\n",
       "      <td>6</td>\n",
       "      <td>403174</td>\n",
       "      <td>0</td>\n",
       "      <td>0</td>\n",
       "      <td>0</td>\n",
       "    </tr>\n",
       "    <tr>\n",
       "      <th>2</th>\n",
       "      <td>1/1/2015</td>\n",
       "      <td>S1F01E6Y</td>\n",
       "      <td>0</td>\n",
       "      <td>173295968</td>\n",
       "      <td>0</td>\n",
       "      <td>0</td>\n",
       "      <td>0</td>\n",
       "      <td>12</td>\n",
       "      <td>237394</td>\n",
       "      <td>0</td>\n",
       "      <td>0</td>\n",
       "      <td>0</td>\n",
       "    </tr>\n",
       "    <tr>\n",
       "      <th>3</th>\n",
       "      <td>1/1/2015</td>\n",
       "      <td>S1F01JE0</td>\n",
       "      <td>0</td>\n",
       "      <td>79694024</td>\n",
       "      <td>0</td>\n",
       "      <td>0</td>\n",
       "      <td>0</td>\n",
       "      <td>6</td>\n",
       "      <td>410186</td>\n",
       "      <td>0</td>\n",
       "      <td>0</td>\n",
       "      <td>0</td>\n",
       "    </tr>\n",
       "    <tr>\n",
       "      <th>4</th>\n",
       "      <td>1/1/2015</td>\n",
       "      <td>S1F01R2B</td>\n",
       "      <td>0</td>\n",
       "      <td>135970480</td>\n",
       "      <td>0</td>\n",
       "      <td>0</td>\n",
       "      <td>0</td>\n",
       "      <td>15</td>\n",
       "      <td>313173</td>\n",
       "      <td>0</td>\n",
       "      <td>0</td>\n",
       "      <td>3</td>\n",
       "    </tr>\n",
       "  </tbody>\n",
       "</table>\n",
       "</div>"
      ],
      "text/plain": [
       "       date    device  failure    metric1  metric2  metric3  metric4  metric5  \\\n",
       "0  1/1/2015  S1F01085        0  215630672       55        0       52        6   \n",
       "1  1/1/2015  S1F0166B        0   61370680        0        3        0        6   \n",
       "2  1/1/2015  S1F01E6Y        0  173295968        0        0        0       12   \n",
       "3  1/1/2015  S1F01JE0        0   79694024        0        0        0        6   \n",
       "4  1/1/2015  S1F01R2B        0  135970480        0        0        0       15   \n",
       "\n",
       "   metric6  metric7  metric8  metric9  \n",
       "0   407438        0        0        7  \n",
       "1   403174        0        0        0  \n",
       "2   237394        0        0        0  \n",
       "3   410186        0        0        0  \n",
       "4   313173        0        0        3  "
      ]
     },
     "execution_count": 2,
     "metadata": {},
     "output_type": "execute_result"
    }
   ],
   "source": [
    "# python version -- 3.9.16\n",
    "df_new = pd.read_csv(\"/mnt/predictive_maintainece_dataset.csv\")\n",
    "df_new.head()"
   ]
  },
  {
   "cell_type": "code",
   "execution_count": 3,
   "metadata": {},
   "outputs": [
    {
     "data": {
      "text/plain": [
       "(124494, 12)"
      ]
     },
     "execution_count": 3,
     "metadata": {},
     "output_type": "execute_result"
    }
   ],
   "source": [
    "# dataset predictive_maintenance_dataset.csv has 124494 records and 12 columns\n",
    "# The target variable/column is the \"failure\" column where only 106 records have failure\n",
    "# The target column has values 0 and 1 for non-failure and failure respectively\n",
    "# The datset is highly imbalanced \n",
    "df_new.shape"
   ]
  },
  {
   "cell_type": "code",
   "execution_count": 4,
   "metadata": {},
   "outputs": [
    {
     "data": {
      "text/plain": [
       "0    124388\n",
       "1       106\n",
       "Name: failure, dtype: int64"
      ]
     },
     "metadata": {},
     "output_type": "display_data"
    },
    {
     "data": {
      "text/plain": [
       "0    0.999149\n",
       "1    0.000851\n",
       "Name: failure, dtype: float64"
      ]
     },
     "metadata": {},
     "output_type": "display_data"
    }
   ],
   "source": [
    "display(df_new.failure.value_counts())\n",
    "display(df_new.failure.value_counts(normalize=True))"
   ]
  },
  {
   "cell_type": "code",
   "execution_count": 14,
   "metadata": {},
   "outputs": [
    {
     "data": {
      "text/plain": [
       "<AxesSubplot: >"
      ]
     },
     "execution_count": 14,
     "metadata": {},
     "output_type": "execute_result"
    },
    {
     "data": {
      "image/png": "[encoded data removed]",
      "text/plain": [
       "<Figure size 640x480 with 1 Axes>"
      ]
     },
     "metadata": {},
     "output_type": "display_data"
    }
   ],
   "source": [
    "df_new['failure'].value_counts().plot(kind='bar')"
   ]
  },
  {
   "cell_type": "code",
   "execution_count": 9,
   "metadata": {},
   "outputs": [
    {
     "data": {
      "text/plain": [
       "<AxesSubplot: xlabel='date'>"
      ]
     },
     "execution_count": 9,
     "metadata": {},
     "output_type": "execute_result"
    },
    {
     "data": {
      "image/png": "[encoded data removed]",
      "text/plain": [
       "<Figure size 1500x500 with 1 Axes>"
      ]
     },
     "metadata": {},
     "output_type": "display_data"
    }
   ],
   "source": [
    "df_new.plot(x='date', y ='failure', kind='line', figsize = (15,5))"
   ]
  },
  {
   "cell_type": "code",
   "execution_count": 26,
   "metadata": {},
   "outputs": [
    {
     "data": {
      "text/plain": [
       "Timestamp('2015-01-01 00:00:00')"
      ]
     },
     "metadata": {},
     "output_type": "display_data"
    },
    {
     "data": {
      "text/plain": [
       "Timestamp('2015-09-09 00:00:00')"
      ]
     },
     "metadata": {},
     "output_type": "display_data"
    }
   ],
   "source": [
    "display(pd.to_datetime(df_new.date.min()))\n",
    "display(pd.to_datetime(df_new.date.max()))"
   ]
  },
  {
   "cell_type": "code",
   "execution_count": 18,
   "metadata": {},
   "outputs": [
    {
     "data": {
      "text/plain": [
       "dtype('O')"
      ]
     },
     "execution_count": 18,
     "metadata": {},
     "output_type": "execute_result"
    }
   ],
   "source": [
    "    df_p = df_new[['YM', 'PROVIDERID', 'OUTCOME']].groupby(['YM', 'OUTCOME', ]).PROVIDERID.value_counts()\n",
    "    df_p = df_p.rename('CNT').reset_index()\n",
    "    df_p['YM'] = _df_p['YM'].astype(str)"
   ]
  },
  {
   "cell_type": "code",
   "execution_count": 55,
   "metadata": {},
   "outputs": [
    {
     "data": {
      "text/plain": [
       "<AxesSubplot: xlabel='Month'>"
      ]
     },
     "execution_count": 55,
     "metadata": {},
     "output_type": "execute_result"
    },
    {
     "data": {
      "image/png": "[encoded data removed]",
      "text/plain": [
       "<Figure size 640x480 with 1 Axes>"
      ]
     },
     "metadata": {},
     "output_type": "display_data"
    }
   ],
   "source": [
    "_df_p = df_new[['Month','failure']].groupby(['Month']).failure.value_counts()\n",
    "_df_p = _df_p.rename('CNT').reset_index()\n",
    "_df_p['Month'] = _df_p['Month'].astype(str)\n",
    "_df_p\n",
    "\n",
    "df_pivot = pd.pivot_table(_df_p, values=\"CNT\", index=\"Month\", columns=\"failure\", aggfunc=np.sum)\n",
    "df_pivot.plot.bar()"
   ]
  },
  {
   "cell_type": "code",
   "execution_count": 29,
   "metadata": {},
   "outputs": [
    {
     "data": {
      "text/plain": [
       "Z1F0QLC1    304\n",
       "S1F0KYCR    304\n",
       "S1F0E9EP    304\n",
       "S1F0EGMT    304\n",
       "S1F0FGBQ    304\n",
       "           ... \n",
       "W1F1CHZK      5\n",
       "W1F1CJKT      5\n",
       "S1F04KSC      4\n",
       "W1F0WJFT      3\n",
       "W1F1DA5ÿ      1\n",
       "Name: device, Length: 1169, dtype: int64"
      ]
     },
     "metadata": {},
     "output_type": "display_data"
    },
    {
     "data": {
      "text/plain": [
       "1169"
      ]
     },
     "metadata": {},
     "output_type": "display_data"
    }
   ],
   "source": [
    "display(df_new.device.value_counts())\n",
    "display(df_new.device.nunique())"
   ]
  },
  {
   "cell_type": "code",
   "execution_count": 56,
   "metadata": {},
   "outputs": [
    {
     "data": {
      "text/html": [
       "<div>\n",
       "<style scoped>\n",
       "    .dataframe tbody tr th:only-of-type {\n",
       "        vertical-align: middle;\n",
       "    }\n",
       "\n",
       "    .dataframe tbody tr th {\n",
       "        vertical-align: top;\n",
       "    }\n",
       "\n",
       "    .dataframe thead th {\n",
       "        text-align: right;\n",
       "    }\n",
       "</style>\n",
       "<table border=\"1\" class=\"dataframe\">\n",
       "  <thead>\n",
       "    <tr style=\"text-align: right;\">\n",
       "      <th></th>\n",
       "      <th>device</th>\n",
       "      <th>failure</th>\n",
       "      <th>CNT</th>\n",
       "    </tr>\n",
       "  </thead>\n",
       "  <tbody>\n",
       "    <tr>\n",
       "      <th>0</th>\n",
       "      <td>S1F01085</td>\n",
       "      <td>0</td>\n",
       "      <td>6</td>\n",
       "    </tr>\n",
       "    <tr>\n",
       "      <th>1</th>\n",
       "      <td>S1F013BB</td>\n",
       "      <td>0</td>\n",
       "      <td>6</td>\n",
       "    </tr>\n",
       "    <tr>\n",
       "      <th>2</th>\n",
       "      <td>S1F0166B</td>\n",
       "      <td>0</td>\n",
       "      <td>6</td>\n",
       "    </tr>\n",
       "    <tr>\n",
       "      <th>3</th>\n",
       "      <td>S1F01E6Y</td>\n",
       "      <td>0</td>\n",
       "      <td>48</td>\n",
       "    </tr>\n",
       "    <tr>\n",
       "      <th>4</th>\n",
       "      <td>S1F01JE0</td>\n",
       "      <td>0</td>\n",
       "      <td>6</td>\n",
       "    </tr>\n",
       "    <tr>\n",
       "      <th>...</th>\n",
       "      <td>...</td>\n",
       "      <td>...</td>\n",
       "      <td>...</td>\n",
       "    </tr>\n",
       "    <tr>\n",
       "      <th>1270</th>\n",
       "      <td>Z1F1VQFY</td>\n",
       "      <td>0</td>\n",
       "      <td>124</td>\n",
       "    </tr>\n",
       "    <tr>\n",
       "      <th>1271</th>\n",
       "      <td>Z1F1VQFY</td>\n",
       "      <td>1</td>\n",
       "      <td>1</td>\n",
       "    </tr>\n",
       "    <tr>\n",
       "      <th>1272</th>\n",
       "      <td>Z1F26YZB</td>\n",
       "      <td>0</td>\n",
       "      <td>84</td>\n",
       "    </tr>\n",
       "    <tr>\n",
       "      <th>1273</th>\n",
       "      <td>Z1F282ZV</td>\n",
       "      <td>0</td>\n",
       "      <td>84</td>\n",
       "    </tr>\n",
       "    <tr>\n",
       "      <th>1274</th>\n",
       "      <td>Z1F2PBHX</td>\n",
       "      <td>0</td>\n",
       "      <td>83</td>\n",
       "    </tr>\n",
       "  </tbody>\n",
       "</table>\n",
       "<p>1275 rows × 3 columns</p>\n",
       "</div>"
      ],
      "text/plain": [
       "        device  failure  CNT\n",
       "0     S1F01085        0    6\n",
       "1     S1F013BB        0    6\n",
       "2     S1F0166B        0    6\n",
       "3     S1F01E6Y        0   48\n",
       "4     S1F01JE0        0    6\n",
       "...        ...      ...  ...\n",
       "1270  Z1F1VQFY        0  124\n",
       "1271  Z1F1VQFY        1    1\n",
       "1272  Z1F26YZB        0   84\n",
       "1273  Z1F282ZV        0   84\n",
       "1274  Z1F2PBHX        0   83\n",
       "\n",
       "[1275 rows x 3 columns]"
      ]
     },
     "execution_count": 56,
     "metadata": {},
     "output_type": "execute_result"
    }
   ],
   "source": [
    "# device is a categorical column\n",
    "_df_p = df_new[['device','failure']].groupby(['device']).failure.value_counts()\n",
    "_df_p = _df_p.rename('CNT').reset_index()\n",
    "_df_p"
   ]
  },
  {
   "cell_type": "code",
   "execution_count": 62,
   "metadata": {},
   "outputs": [
    {
     "data": {
      "text/html": [
       "<div>\n",
       "<style scoped>\n",
       "    .dataframe tbody tr th:only-of-type {\n",
       "        vertical-align: middle;\n",
       "    }\n",
       "\n",
       "    .dataframe tbody tr th {\n",
       "        vertical-align: top;\n",
       "    }\n",
       "\n",
       "    .dataframe thead th {\n",
       "        text-align: right;\n",
       "    }\n",
       "</style>\n",
       "<table border=\"1\" class=\"dataframe\">\n",
       "  <thead>\n",
       "    <tr style=\"text-align: right;\">\n",
       "      <th></th>\n",
       "      <th>metric1</th>\n",
       "      <th>metric2</th>\n",
       "      <th>metric3</th>\n",
       "      <th>metric4</th>\n",
       "      <th>metric5</th>\n",
       "      <th>metric6</th>\n",
       "      <th>metric7</th>\n",
       "      <th>metric8</th>\n",
       "      <th>metric9</th>\n",
       "    </tr>\n",
       "  </thead>\n",
       "  <tbody>\n",
       "    <tr>\n",
       "      <th>metric1</th>\n",
       "      <td>1.000000</td>\n",
       "      <td>-0.004254</td>\n",
       "      <td>0.003701</td>\n",
       "      <td>0.001836</td>\n",
       "      <td>-0.003376</td>\n",
       "      <td>-0.001522</td>\n",
       "      <td>0.000151</td>\n",
       "      <td>0.000151</td>\n",
       "      <td>-0.002256</td>\n",
       "    </tr>\n",
       "    <tr>\n",
       "      <th>metric2</th>\n",
       "      <td>-0.004254</td>\n",
       "      <td>1.000000</td>\n",
       "      <td>-0.002617</td>\n",
       "      <td>0.146762</td>\n",
       "      <td>-0.013999</td>\n",
       "      <td>-0.026350</td>\n",
       "      <td>0.141366</td>\n",
       "      <td>0.141366</td>\n",
       "      <td>-0.002049</td>\n",
       "    </tr>\n",
       "    <tr>\n",
       "      <th>metric3</th>\n",
       "      <td>0.003701</td>\n",
       "      <td>-0.002617</td>\n",
       "      <td>1.000000</td>\n",
       "      <td>0.097452</td>\n",
       "      <td>-0.006697</td>\n",
       "      <td>0.009031</td>\n",
       "      <td>-0.001884</td>\n",
       "      <td>-0.001884</td>\n",
       "      <td>0.369579</td>\n",
       "    </tr>\n",
       "    <tr>\n",
       "      <th>metric4</th>\n",
       "      <td>0.001836</td>\n",
       "      <td>0.146762</td>\n",
       "      <td>0.097452</td>\n",
       "      <td>1.000000</td>\n",
       "      <td>-0.009773</td>\n",
       "      <td>0.024870</td>\n",
       "      <td>0.045631</td>\n",
       "      <td>0.045631</td>\n",
       "      <td>0.024892</td>\n",
       "    </tr>\n",
       "    <tr>\n",
       "      <th>metric5</th>\n",
       "      <td>-0.003376</td>\n",
       "      <td>-0.013999</td>\n",
       "      <td>-0.006697</td>\n",
       "      <td>-0.009773</td>\n",
       "      <td>1.000000</td>\n",
       "      <td>-0.017049</td>\n",
       "      <td>-0.009384</td>\n",
       "      <td>-0.009384</td>\n",
       "      <td>0.003591</td>\n",
       "    </tr>\n",
       "    <tr>\n",
       "      <th>metric6</th>\n",
       "      <td>-0.001522</td>\n",
       "      <td>-0.026350</td>\n",
       "      <td>0.009031</td>\n",
       "      <td>0.024870</td>\n",
       "      <td>-0.017049</td>\n",
       "      <td>1.000000</td>\n",
       "      <td>-0.012207</td>\n",
       "      <td>-0.012207</td>\n",
       "      <td>0.016566</td>\n",
       "    </tr>\n",
       "    <tr>\n",
       "      <th>metric7</th>\n",
       "      <td>0.000151</td>\n",
       "      <td>0.141366</td>\n",
       "      <td>-0.001884</td>\n",
       "      <td>0.045631</td>\n",
       "      <td>-0.009384</td>\n",
       "      <td>-0.012207</td>\n",
       "      <td>1.000000</td>\n",
       "      <td>1.000000</td>\n",
       "      <td>0.004684</td>\n",
       "    </tr>\n",
       "    <tr>\n",
       "      <th>metric8</th>\n",
       "      <td>0.000151</td>\n",
       "      <td>0.141366</td>\n",
       "      <td>-0.001884</td>\n",
       "      <td>0.045631</td>\n",
       "      <td>-0.009384</td>\n",
       "      <td>-0.012207</td>\n",
       "      <td>1.000000</td>\n",
       "      <td>1.000000</td>\n",
       "      <td>0.004684</td>\n",
       "    </tr>\n",
       "    <tr>\n",
       "      <th>metric9</th>\n",
       "      <td>-0.002256</td>\n",
       "      <td>-0.002049</td>\n",
       "      <td>0.369579</td>\n",
       "      <td>0.024892</td>\n",
       "      <td>0.003591</td>\n",
       "      <td>0.016566</td>\n",
       "      <td>0.004684</td>\n",
       "      <td>0.004684</td>\n",
       "      <td>1.000000</td>\n",
       "    </tr>\n",
       "  </tbody>\n",
       "</table>\n",
       "</div>"
      ],
      "text/plain": [
       "          metric1   metric2   metric3   metric4   metric5   metric6   metric7  \\\n",
       "metric1  1.000000 -0.004254  0.003701  0.001836 -0.003376 -0.001522  0.000151   \n",
       "metric2 -0.004254  1.000000 -0.002617  0.146762 -0.013999 -0.026350  0.141366   \n",
       "metric3  0.003701 -0.002617  1.000000  0.097452 -0.006697  0.009031 -0.001884   \n",
       "metric4  0.001836  0.146762  0.097452  1.000000 -0.009773  0.024870  0.045631   \n",
       "metric5 -0.003376 -0.013999 -0.006697 -0.009773  1.000000 -0.017049 -0.009384   \n",
       "metric6 -0.001522 -0.026350  0.009031  0.024870 -0.017049  1.000000 -0.012207   \n",
       "metric7  0.000151  0.141366 -0.001884  0.045631 -0.009384 -0.012207  1.000000   \n",
       "metric8  0.000151  0.141366 -0.001884  0.045631 -0.009384 -0.012207  1.000000   \n",
       "metric9 -0.002256 -0.002049  0.369579  0.024892  0.003591  0.016566  0.004684   \n",
       "\n",
       "          metric8   metric9  \n",
       "metric1  0.000151 -0.002256  \n",
       "metric2  0.141366 -0.002049  \n",
       "metric3 -0.001884  0.369579  \n",
       "metric4  0.045631  0.024892  \n",
       "metric5 -0.009384  0.003591  \n",
       "metric6 -0.012207  0.016566  \n",
       "metric7  1.000000  0.004684  \n",
       "metric8  1.000000  0.004684  \n",
       "metric9  0.004684  1.000000  "
      ]
     },
     "execution_count": 62,
     "metadata": {},
     "output_type": "execute_result"
    }
   ],
   "source": [
    "df_new[['metric1','metric2','metric3','metric4','metric5','metric6','metric7','metric8','metric9']].corr()"
   ]
  },
  {
   "cell_type": "code",
   "execution_count": 74,
   "metadata": {},
   "outputs": [
    {
     "data": {
      "text/html": [
       "<div>\n",
       "<style scoped>\n",
       "    .dataframe tbody tr th:only-of-type {\n",
       "        vertical-align: middle;\n",
       "    }\n",
       "\n",
       "    .dataframe tbody tr th {\n",
       "        vertical-align: top;\n",
       "    }\n",
       "\n",
       "    .dataframe thead th {\n",
       "        text-align: right;\n",
       "    }\n",
       "</style>\n",
       "<table border=\"1\" class=\"dataframe\">\n",
       "  <thead>\n",
       "    <tr style=\"text-align: right;\">\n",
       "      <th></th>\n",
       "      <th>failure</th>\n",
       "      <th>metric1</th>\n",
       "      <th>metric2</th>\n",
       "      <th>metric3</th>\n",
       "      <th>metric4</th>\n",
       "      <th>metric5</th>\n",
       "      <th>metric6</th>\n",
       "      <th>metric7</th>\n",
       "      <th>metric8</th>\n",
       "      <th>metric9</th>\n",
       "    </tr>\n",
       "  </thead>\n",
       "  <tbody>\n",
       "    <tr>\n",
       "      <th>count</th>\n",
       "      <td>124494.0000</td>\n",
       "      <td>124494.0000</td>\n",
       "      <td>124494.0000</td>\n",
       "      <td>124494.0000</td>\n",
       "      <td>124494.0000</td>\n",
       "      <td>124494.0000</td>\n",
       "      <td>124494.0000</td>\n",
       "      <td>124494.0000</td>\n",
       "      <td>124494.0000</td>\n",
       "      <td>124494.0000</td>\n",
       "    </tr>\n",
       "    <tr>\n",
       "      <th>mean</th>\n",
       "      <td>0.0009</td>\n",
       "      <td>122388103.2421</td>\n",
       "      <td>159.4927</td>\n",
       "      <td>9.9409</td>\n",
       "      <td>1.7411</td>\n",
       "      <td>14.2227</td>\n",
       "      <td>260172.6577</td>\n",
       "      <td>0.2925</td>\n",
       "      <td>0.2925</td>\n",
       "      <td>13.0138</td>\n",
       "    </tr>\n",
       "    <tr>\n",
       "      <th>std</th>\n",
       "      <td>0.0292</td>\n",
       "      <td>70459334.2164</td>\n",
       "      <td>2179.6778</td>\n",
       "      <td>185.7481</td>\n",
       "      <td>22.9085</td>\n",
       "      <td>15.9430</td>\n",
       "      <td>99151.0785</td>\n",
       "      <td>7.4369</td>\n",
       "      <td>7.4369</td>\n",
       "      <td>275.6612</td>\n",
       "    </tr>\n",
       "    <tr>\n",
       "      <th>min</th>\n",
       "      <td>0.0000</td>\n",
       "      <td>0.0000</td>\n",
       "      <td>0.0000</td>\n",
       "      <td>0.0000</td>\n",
       "      <td>0.0000</td>\n",
       "      <td>1.0000</td>\n",
       "      <td>8.0000</td>\n",
       "      <td>0.0000</td>\n",
       "      <td>0.0000</td>\n",
       "      <td>0.0000</td>\n",
       "    </tr>\n",
       "    <tr>\n",
       "      <th>25%</th>\n",
       "      <td>0.0000</td>\n",
       "      <td>61284762.0000</td>\n",
       "      <td>0.0000</td>\n",
       "      <td>0.0000</td>\n",
       "      <td>0.0000</td>\n",
       "      <td>8.0000</td>\n",
       "      <td>221452.0000</td>\n",
       "      <td>0.0000</td>\n",
       "      <td>0.0000</td>\n",
       "      <td>0.0000</td>\n",
       "    </tr>\n",
       "    <tr>\n",
       "      <th>50%</th>\n",
       "      <td>0.0000</td>\n",
       "      <td>122797388.0000</td>\n",
       "      <td>0.0000</td>\n",
       "      <td>0.0000</td>\n",
       "      <td>0.0000</td>\n",
       "      <td>10.0000</td>\n",
       "      <td>249799.5000</td>\n",
       "      <td>0.0000</td>\n",
       "      <td>0.0000</td>\n",
       "      <td>0.0000</td>\n",
       "    </tr>\n",
       "    <tr>\n",
       "      <th>75%</th>\n",
       "      <td>0.0000</td>\n",
       "      <td>183309640.0000</td>\n",
       "      <td>0.0000</td>\n",
       "      <td>0.0000</td>\n",
       "      <td>0.0000</td>\n",
       "      <td>12.0000</td>\n",
       "      <td>310266.0000</td>\n",
       "      <td>0.0000</td>\n",
       "      <td>0.0000</td>\n",
       "      <td>0.0000</td>\n",
       "    </tr>\n",
       "    <tr>\n",
       "      <th>max</th>\n",
       "      <td>1.0000</td>\n",
       "      <td>244140480.0000</td>\n",
       "      <td>64968.0000</td>\n",
       "      <td>24929.0000</td>\n",
       "      <td>1666.0000</td>\n",
       "      <td>98.0000</td>\n",
       "      <td>689161.0000</td>\n",
       "      <td>832.0000</td>\n",
       "      <td>832.0000</td>\n",
       "      <td>70000.0000</td>\n",
       "    </tr>\n",
       "  </tbody>\n",
       "</table>\n",
       "</div>"
      ],
      "text/plain": [
       "          failure        metric1     metric2     metric3     metric4  \\\n",
       "count 124494.0000    124494.0000 124494.0000 124494.0000 124494.0000   \n",
       "mean       0.0009 122388103.2421    159.4927      9.9409      1.7411   \n",
       "std        0.0292  70459334.2164   2179.6778    185.7481     22.9085   \n",
       "min        0.0000         0.0000      0.0000      0.0000      0.0000   \n",
       "25%        0.0000  61284762.0000      0.0000      0.0000      0.0000   \n",
       "50%        0.0000 122797388.0000      0.0000      0.0000      0.0000   \n",
       "75%        0.0000 183309640.0000      0.0000      0.0000      0.0000   \n",
       "max        1.0000 244140480.0000  64968.0000  24929.0000   1666.0000   \n",
       "\n",
       "          metric5     metric6     metric7     metric8     metric9  \n",
       "count 124494.0000 124494.0000 124494.0000 124494.0000 124494.0000  \n",
       "mean      14.2227 260172.6577      0.2925      0.2925     13.0138  \n",
       "std       15.9430  99151.0785      7.4369      7.4369    275.6612  \n",
       "min        1.0000      8.0000      0.0000      0.0000      0.0000  \n",
       "25%        8.0000 221452.0000      0.0000      0.0000      0.0000  \n",
       "50%       10.0000 249799.5000      0.0000      0.0000      0.0000  \n",
       "75%       12.0000 310266.0000      0.0000      0.0000      0.0000  \n",
       "max       98.0000 689161.0000    832.0000    832.0000  70000.0000  "
      ]
     },
     "execution_count": 74,
     "metadata": {},
     "output_type": "execute_result"
    }
   ],
   "source": [
    "df_new[['metric1','metric2','metric3','metric4','metric5','metric6','metric7','metric8','metric9']].value_counts()\n",
    "\n",
    "# metric 1, 5,  6 - numerical\n",
    "# metric 2,3, 4,7,9 - categorical\n",
    "# metric7 and metric8 are highly correlated\n",
    "\n",
    "df_new.describe()"
   ]
  },
  {
   "cell_type": "code",
   "execution_count": 76,
   "metadata": {},
   "outputs": [
    {
     "data": {
      "text/plain": [
       "123877"
      ]
     },
     "metadata": {},
     "output_type": "display_data"
    },
    {
     "data": {
      "text/plain": [
       "560"
      ]
     },
     "metadata": {},
     "output_type": "display_data"
    },
    {
     "data": {
      "text/plain": [
       "48"
      ]
     },
     "metadata": {},
     "output_type": "display_data"
    },
    {
     "data": {
      "text/plain": [
       "115"
      ]
     },
     "metadata": {},
     "output_type": "display_data"
    },
    {
     "data": {
      "text/plain": [
       "60"
      ]
     },
     "metadata": {},
     "output_type": "display_data"
    },
    {
     "data": {
      "text/plain": [
       "44838"
      ]
     },
     "metadata": {},
     "output_type": "display_data"
    },
    {
     "data": {
      "text/plain": [
       "28"
      ]
     },
     "metadata": {},
     "output_type": "display_data"
    },
    {
     "data": {
      "text/plain": [
       "28"
      ]
     },
     "metadata": {},
     "output_type": "display_data"
    },
    {
     "data": {
      "text/plain": [
       "67"
      ]
     },
     "metadata": {},
     "output_type": "display_data"
    }
   ],
   "source": [
    "display(df_new.metric1.nunique()) # 123877\n",
    "display(df_new.metric2.nunique()) # 560\n",
    "display(df_new.metric3.nunique()) #48\n",
    "display(df_new.metric4.nunique()) # 115\n",
    "display(df_new.metric5.nunique()) #60\n",
    "display(df_new.metric6.nunique()) # 44838\n",
    "display(df_new.metric7.nunique()) # 28\n",
    "display(df_new.metric8.nunique()) #28\n",
    "display(df_new.metric9.nunique()) # 67"
   ]
  },
  {
   "cell_type": "code",
   "execution_count": 80,
   "metadata": {},
   "outputs": [
    {
     "data": {
      "text/html": [
       "<div>\n",
       "<style scoped>\n",
       "    .dataframe tbody tr th:only-of-type {\n",
       "        vertical-align: middle;\n",
       "    }\n",
       "\n",
       "    .dataframe tbody tr th {\n",
       "        vertical-align: top;\n",
       "    }\n",
       "\n",
       "    .dataframe thead th {\n",
       "        text-align: right;\n",
       "    }\n",
       "</style>\n",
       "<table border=\"1\" class=\"dataframe\">\n",
       "  <thead>\n",
       "    <tr style=\"text-align: right;\">\n",
       "      <th>failure</th>\n",
       "      <th>0</th>\n",
       "      <th>1</th>\n",
       "    </tr>\n",
       "    <tr>\n",
       "      <th>Month</th>\n",
       "      <th></th>\n",
       "      <th></th>\n",
       "    </tr>\n",
       "  </thead>\n",
       "  <tbody>\n",
       "    <tr>\n",
       "      <th>01</th>\n",
       "      <td>25008.0000</td>\n",
       "      <td>24.0000</td>\n",
       "    </tr>\n",
       "    <tr>\n",
       "      <th>02</th>\n",
       "      <td>19486.0000</td>\n",
       "      <td>14.0000</td>\n",
       "    </tr>\n",
       "    <tr>\n",
       "      <th>03</th>\n",
       "      <td>19824.0000</td>\n",
       "      <td>9.0000</td>\n",
       "    </tr>\n",
       "    <tr>\n",
       "      <th>04</th>\n",
       "      <td>12003.0000</td>\n",
       "      <td>9.0000</td>\n",
       "    </tr>\n",
       "    <tr>\n",
       "      <th>05</th>\n",
       "      <td>11309.0000</td>\n",
       "      <td>21.0000</td>\n",
       "    </tr>\n",
       "    <tr>\n",
       "      <th>06</th>\n",
       "      <td>10463.0000</td>\n",
       "      <td>6.0000</td>\n",
       "    </tr>\n",
       "    <tr>\n",
       "      <th>07</th>\n",
       "      <td>10515.0000</td>\n",
       "      <td>16.0000</td>\n",
       "    </tr>\n",
       "    <tr>\n",
       "      <th>08</th>\n",
       "      <td>8342.0000</td>\n",
       "      <td>4.0000</td>\n",
       "    </tr>\n",
       "    <tr>\n",
       "      <th>09</th>\n",
       "      <td>4470.0000</td>\n",
       "      <td>NaN</td>\n",
       "    </tr>\n",
       "    <tr>\n",
       "      <th>10</th>\n",
       "      <td>2937.0000</td>\n",
       "      <td>3.0000</td>\n",
       "    </tr>\n",
       "    <tr>\n",
       "      <th>11</th>\n",
       "      <td>31.0000</td>\n",
       "      <td>NaN</td>\n",
       "    </tr>\n",
       "  </tbody>\n",
       "</table>\n",
       "</div>"
      ],
      "text/plain": [
       "failure          0       1\n",
       "Month                     \n",
       "01      25008.0000 24.0000\n",
       "02      19486.0000 14.0000\n",
       "03      19824.0000  9.0000\n",
       "04      12003.0000  9.0000\n",
       "05      11309.0000 21.0000\n",
       "06      10463.0000  6.0000\n",
       "07      10515.0000 16.0000\n",
       "08       8342.0000  4.0000\n",
       "09       4470.0000     NaN\n",
       "10       2937.0000  3.0000\n",
       "11         31.0000     NaN"
      ]
     },
     "execution_count": 80,
     "metadata": {},
     "output_type": "execute_result"
    }
   ],
   "source": [
    "df_pivot"
   ]
  },
  {
   "cell_type": "code",
   "execution_count": 81,
   "metadata": {},
   "outputs": [
    {
     "data": {
      "text/plain": [
       "date       0\n",
       "device     0\n",
       "failure    0\n",
       "metric1    0\n",
       "metric2    0\n",
       "metric3    0\n",
       "metric4    0\n",
       "metric5    0\n",
       "metric6    0\n",
       "metric7    0\n",
       "metric8    0\n",
       "metric9    0\n",
       "Month      0\n",
       "dtype: int64"
      ]
     },
     "execution_count": 81,
     "metadata": {},
     "output_type": "execute_result"
    }
   ],
   "source": [
    "df_new.isna().sum()"
   ]
  },
  {
   "cell_type": "markdown",
   "metadata": {},
   "source": [
    "#### Model buliding"
   ]
  },
  {
   "cell_type": "code",
   "execution_count": 189,
   "metadata": {},
   "outputs": [
    {
     "name": "stdout",
     "output_type": "stream",
     "text": [
      "(21496, 13)\n",
      "(102998, 13)\n"
     ]
    }
   ],
   "source": [
    "num_cols = ['metric1','metric5','metric6']\n",
    "cat_cols = ['device','metric2','metric3','metric4','metric5','metric7','metric9']\n",
    "all_columns = num_cols + cat_cols\n",
    "target = df_new['failure']\n",
    "\n",
    "df_train_1 = df_new.copy()\n",
    "df_train_1['date'] = pd.to_datetime(df_train_1['date'])\n",
    "\n",
    "df_holdout = df_train_1[df_train_1['date'] >= '07/15/2015']\n",
    "df_train_1 = df_train_1.drop(df_holdout.index)\n",
    "print(df_holdout.shape)\n",
    "print(df_train_1.shape)\n",
    "\n",
    "\n"
   ]
  },
  {
   "cell_type": "code",
   "execution_count": 156,
   "metadata": {},
   "outputs": [
    {
     "data": {
      "text/plain": [
       "0   0.9993\n",
       "1   0.0007\n",
       "Name: failure, dtype: float64"
      ]
     },
     "execution_count": 156,
     "metadata": {},
     "output_type": "execute_result"
    }
   ],
   "source": [
    "df_holdout.failure.value_counts(normalize=True)"
   ]
  },
  {
   "cell_type": "code",
   "execution_count": 157,
   "metadata": {},
   "outputs": [
    {
     "data": {
      "text/plain": [
       "0   0.9991\n",
       "1   0.0009\n",
       "Name: failure, dtype: float64"
      ]
     },
     "execution_count": 157,
     "metadata": {},
     "output_type": "execute_result"
    }
   ],
   "source": [
    "df_train_1.failure.value_counts(normalize=True)"
   ]
  },
  {
   "cell_type": "code",
   "execution_count": 190,
   "metadata": {},
   "outputs": [],
   "source": [
    "y = df_train_1['failure']\n",
    "X = df_train_1.drop(['failure', \n",
    "                    'date', \n",
    "                    ], axis=1)\n",
    "\n",
    "y_holdout = df_holdout['failure']\n",
    "X_holdout = df_holdout.drop(['failure', \n",
    "                              'date', \n",
    "                              ], axis=1)"
   ]
  },
  {
   "cell_type": "code",
   "execution_count": 191,
   "metadata": {},
   "outputs": [],
   "source": [
    "X_train, X_test, y_train, y_test = train_test_split(X,y, random_state=3,test_size=0.20, stratify=y)"
   ]
  },
  {
   "cell_type": "code",
   "execution_count": 192,
   "metadata": {},
   "outputs": [
    {
     "data": {
      "text/plain": [
       "(82398, 11)"
      ]
     },
     "execution_count": 192,
     "metadata": {},
     "output_type": "execute_result"
    }
   ],
   "source": [
    "X_train.shape"
   ]
  },
  {
   "cell_type": "code",
   "execution_count": 193,
   "metadata": {},
   "outputs": [
    {
     "data": {
      "text/plain": [
       "(82398, 12)"
      ]
     },
     "execution_count": 193,
     "metadata": {},
     "output_type": "execute_result"
    }
   ],
   "source": [
    "df_tr = X_train.copy()\n",
    "df_tr['target'] = y_train.tolist()\n",
    "df_tr.shape"
   ]
  },
  {
   "cell_type": "code",
   "execution_count": 194,
   "metadata": {},
   "outputs": [],
   "source": [
    "(y_train==0).sum() # 82330\n",
    "(y_train==1).sum() #68\n",
    "\n",
    "(y_test==0).sum() # 20577\n",
    "(y_test==1).sum() #23\n",
    "\n",
    "y_train = y_train.astype('int')\n",
    "y_test = y_test.astype('int')\n",
    "y_holdout = y_holdout.astype('int')\n",
    "\n"
   ]
  },
  {
   "cell_type": "code",
   "execution_count": 195,
   "metadata": {},
   "outputs": [],
   "source": [
    "encode_be = ce.BinaryEncoder(cols=cat_cols, return_df=True,)\n",
    "encode_be.fit(X_train) \n",
    "X_train = encode_be.transform(X_train)\n",
    "X_test = encode_be.transform(X_test)\n",
    "X_holdout = encode_be.transform(X_holdout)"
   ]
  },
  {
   "cell_type": "code",
   "execution_count": 196,
   "metadata": {},
   "outputs": [
    {
     "data": {
      "text/plain": [
       "(82398, 54)"
      ]
     },
     "metadata": {},
     "output_type": "display_data"
    },
    {
     "data": {
      "text/plain": [
       "(20600, 54)"
      ]
     },
     "metadata": {},
     "output_type": "display_data"
    },
    {
     "data": {
      "text/plain": [
       "(21496, 54)"
      ]
     },
     "metadata": {},
     "output_type": "display_data"
    }
   ],
   "source": [
    "_num_cols = X_train.select_dtypes(include=['number']).columns\n",
    "X_train = X_train[_num_cols].fillna(0)\n",
    "_num_cols = X_test.select_dtypes(include=['number']).columns\n",
    "X_test = X_test[_num_cols].fillna(0)\n",
    "_num_cols = X_holdout.select_dtypes(include=['number']).columns\n",
    "X_holdout = X_holdout[_num_cols].fillna(0)\n",
    "\n",
    "display(X_train.shape)\n",
    "display(X_test.shape)\n",
    "display(X_holdout.shape)"
   ]
  },
  {
   "cell_type": "code",
   "execution_count": 214,
   "metadata": {},
   "outputs": [
    {
     "ename": "ImportError",
     "evalue": "cannot import name 'RandomUnderSampler' from 'imblearn.over_sampling' (/opt/conda/lib/python3.9/site-packages/imblearn/over_sampling/__init__.py)",
     "output_type": "error",
     "traceback": [
      "\u001b[0;31m---------------------------------------------------------------------------\u001b[0m",
      "\u001b[0;31mImportError\u001b[0m                               Traceback (most recent call last)",
      "Cell \u001b[0;32mIn[214], line 1\u001b[0m\n\u001b[0;32m----> 1\u001b[0m \u001b[38;5;28;01mfrom\u001b[39;00m \u001b[38;5;21;01mimblearn\u001b[39;00m\u001b[38;5;21;01m.\u001b[39;00m\u001b[38;5;21;01mover_sampling\u001b[39;00m \u001b[38;5;28;01mimport\u001b[39;00m RandomOverSampler, RandomUnderSampler\n\u001b[1;32m      2\u001b[0m \u001b[38;5;28;01mfrom\u001b[39;00m \u001b[38;5;21;01mcollections\u001b[39;00m \u001b[38;5;28;01mimport\u001b[39;00m Counter\n\u001b[1;32m      3\u001b[0m oversample \u001b[38;5;241m=\u001b[39m RandomOverSampler(sampling_strategy\u001b[38;5;241m=\u001b[39m\u001b[38;5;124m'\u001b[39m\u001b[38;5;124mminority\u001b[39m\u001b[38;5;124m'\u001b[39m)\n",
      "\u001b[0;31mImportError\u001b[0m: cannot import name 'RandomUnderSampler' from 'imblearn.over_sampling' (/opt/conda/lib/python3.9/site-packages/imblearn/over_sampling/__init__.py)"
     ]
    }
   ],
   "source": [
    "from imblearn.over_sampling import RandomOverSampler\n",
    "from collections import Counter\n",
    "oversample = RandomOverSampler(sampling_strategy='minority')\n",
    "# fit and apply the transform\n",
    "X_over, y_over = oversample.fit_resample(X_train, y_train)\n",
    "# summarize class distribution\n",
    "print(Counter(y_over))"
   ]
  },
  {
   "cell_type": "code",
   "execution_count": 119,
   "metadata": {},
   "outputs": [],
   "source": [
    "# !pip install imblearn --user"
   ]
  },
  {
   "cell_type": "code",
   "execution_count": null,
   "metadata": {},
   "outputs": [],
   "source": []
  },
  {
   "cell_type": "code",
   "execution_count": 242,
   "metadata": {},
   "outputs": [],
   "source": [
    "n_estimators=200\n",
    "random_state = 3\n",
    "# max_depth= 4\n",
    "# min_samples_leaf=6\n",
    "# min_samples_split=6\n",
    "from imblearn.ensemble import BalancedBaggingClassifier,BalancedRandomForestClassifier\n",
    "from sklearn.model_selection import cross_val_score\n",
    "from sklearn.model_selection import RepeatedStratifiedKFold\n",
    "from sklearn.ensemble import RandomForestClassifier\n",
    "from xgboost import XGBClassifier, plot_importance\n",
    "\n",
    "model = BalancedBaggingClassifier(\n",
    "        random_state=random_state,\n",
    "        n_estimators=n_estimators,\n",
    "#         max_depth= 8,\n",
    "#         min_samples_leaf=8,\n",
    "#         min_samples_split=6,\n",
    "        n_jobs=-1\n",
    "    )\n",
    "\n",
    "# cv = RepeatedStratifiedKFold(n_splits=10, n_repeats=3, random_state=1)\n",
    "# scores = cross_val_score(model, X_over, y_over, scoring='f1_micro', cv=cv, n_jobs=-1)\n",
    "\n",
    "# model = XGBClassifier(random_state=3,n_jobs=-1,\n",
    "# #       colsample_bytree= 0.9999770728505953,\n",
    "# #       gamma= 9.178015033367036,\n",
    "# #       max_delta_step =10.0,\n",
    "# #       min_child_weight= 13.0,\n",
    "# #       eta=0.3391640886991351,              \n",
    "# #       n_estimators= 300,\n",
    "# #       reg_alpha=50.0,\n",
    "# #       reg_lambda=0.15721706243187808,\n",
    "#       seed=0,\n",
    "#       scale_pos_weight= 7\n",
    "#   )\n",
    "\n",
    "\n",
    "# model.fit(X_train,y_train)"
   ]
  },
  {
   "cell_type": "code",
   "execution_count": 208,
   "metadata": {},
   "outputs": [
    {
     "data": {
      "text/plain": [
       "0.9998299423018524"
      ]
     },
     "execution_count": 208,
     "metadata": {},
     "output_type": "execute_result"
    }
   ],
   "source": [
    "np.mean(scores)"
   ]
  },
  {
   "cell_type": "code",
   "execution_count": 243,
   "metadata": {},
   "outputs": [
    {
     "data": {
      "text/html": [
       "<style>#sk-container-id-15 {color: black;background-color: white;}#sk-container-id-15 pre{padding: 0;}#sk-container-id-15 div.sk-toggleable {background-color: white;}#sk-container-id-15 label.sk-toggleable__label {cursor: pointer;display: block;width: 100%;margin-bottom: 0;padding: 0.3em;box-sizing: border-box;text-align: center;}#sk-container-id-15 label.sk-toggleable__label-arrow:before {content: \"▸\";float: left;margin-right: 0.25em;color: #696969;}#sk-container-id-15 label.sk-toggleable__label-arrow:hover:before {color: black;}#sk-container-id-15 div.sk-estimator:hover label.sk-toggleable__label-arrow:before {color: black;}#sk-container-id-15 div.sk-toggleable__content {max-height: 0;max-width: 0;overflow: hidden;text-align: left;background-color: #f0f8ff;}#sk-container-id-15 div.sk-toggleable__content pre {margin: 0.2em;color: black;border-radius: 0.25em;background-color: #f0f8ff;}#sk-container-id-15 input.sk-toggleable__control:checked~div.sk-toggleable__content {max-height: 200px;max-width: 100%;overflow: auto;}#sk-container-id-15 input.sk-toggleable__control:checked~label.sk-toggleable__label-arrow:before {content: \"▾\";}#sk-container-id-15 div.sk-estimator input.sk-toggleable__control:checked~label.sk-toggleable__label {background-color: #d4ebff;}#sk-container-id-15 div.sk-label input.sk-toggleable__control:checked~label.sk-toggleable__label {background-color: #d4ebff;}#sk-container-id-15 input.sk-hidden--visually {border: 0;clip: rect(1px 1px 1px 1px);clip: rect(1px, 1px, 1px, 1px);height: 1px;margin: -1px;overflow: hidden;padding: 0;position: absolute;width: 1px;}#sk-container-id-15 div.sk-estimator {font-family: monospace;background-color: #f0f8ff;border: 1px dotted black;border-radius: 0.25em;box-sizing: border-box;margin-bottom: 0.5em;}#sk-container-id-15 div.sk-estimator:hover {background-color: #d4ebff;}#sk-container-id-15 div.sk-parallel-item::after {content: \"\";width: 100%;border-bottom: 1px solid gray;flex-grow: 1;}#sk-container-id-15 div.sk-label:hover label.sk-toggleable__label {background-color: #d4ebff;}#sk-container-id-15 div.sk-serial::before {content: \"\";position: absolute;border-left: 1px solid gray;box-sizing: border-box;top: 0;bottom: 0;left: 50%;z-index: 0;}#sk-container-id-15 div.sk-serial {display: flex;flex-direction: column;align-items: center;background-color: white;padding-right: 0.2em;padding-left: 0.2em;position: relative;}#sk-container-id-15 div.sk-item {position: relative;z-index: 1;}#sk-container-id-15 div.sk-parallel {display: flex;align-items: stretch;justify-content: center;background-color: white;position: relative;}#sk-container-id-15 div.sk-item::before, #sk-container-id-15 div.sk-parallel-item::before {content: \"\";position: absolute;border-left: 1px solid gray;box-sizing: border-box;top: 0;bottom: 0;left: 50%;z-index: -1;}#sk-container-id-15 div.sk-parallel-item {display: flex;flex-direction: column;z-index: 1;position: relative;background-color: white;}#sk-container-id-15 div.sk-parallel-item:first-child::after {align-self: flex-end;width: 50%;}#sk-container-id-15 div.sk-parallel-item:last-child::after {align-self: flex-start;width: 50%;}#sk-container-id-15 div.sk-parallel-item:only-child::after {width: 0;}#sk-container-id-15 div.sk-dashed-wrapped {border: 1px dashed gray;margin: 0 0.4em 0.5em 0.4em;box-sizing: border-box;padding-bottom: 0.4em;background-color: white;}#sk-container-id-15 div.sk-label label {font-family: monospace;font-weight: bold;display: inline-block;line-height: 1.2em;}#sk-container-id-15 div.sk-label-container {text-align: center;}#sk-container-id-15 div.sk-container {/* jupyter's `normalize.less` sets `[hidden] { display: none; }` but bootstrap.min.css set `[hidden] { display: none !important; }` so we also need the `!important` here to be able to override the default hidden behavior on the sphinx rendered scikit-learn.org. See: https://github.com/scikit-learn/scikit-learn/issues/21755 */display: inline-block !important;position: relative;}#sk-container-id-15 div.sk-text-repr-fallback {display: none;}</style><div id=\"sk-container-id-15\" class=\"sk-top-container\"><div class=\"sk-text-repr-fallback\"><pre>BalancedBaggingClassifier(n_estimators=200, n_jobs=-1, random_state=3)</pre><b>In a Jupyter environment, please rerun this cell to show the HTML representation or trust the notebook. <br />On GitHub, the HTML representation is unable to render, please try loading this page with nbviewer.org.</b></div><div class=\"sk-container\" hidden><div class=\"sk-item\"><div class=\"sk-estimator sk-toggleable\"><input class=\"sk-toggleable__control sk-hidden--visually\" id=\"sk-estimator-id-15\" type=\"checkbox\" checked><label for=\"sk-estimator-id-15\" class=\"sk-toggleable__label sk-toggleable__label-arrow\">BalancedBaggingClassifier</label><div class=\"sk-toggleable__content\"><pre>BalancedBaggingClassifier(n_estimators=200, n_jobs=-1, random_state=3)</pre></div></div></div></div></div>"
      ],
      "text/plain": [
       "BalancedBaggingClassifier(n_estimators=200, n_jobs=-1, random_state=3)"
      ]
     },
     "execution_count": 243,
     "metadata": {},
     "output_type": "execute_result"
    }
   ],
   "source": [
    "model.fit(X_over,y_over)"
   ]
  },
  {
   "cell_type": "code",
   "execution_count": 239,
   "metadata": {},
   "outputs": [
    {
     "name": "stdout",
     "output_type": "stream",
     "text": [
      "Accuracy: 1.000\n",
      "AUC: 1.000\n",
      "[[82325     0]\n",
      " [    0    73]]\n",
      "recall: 1.000\n",
      "precision: 1.00\n",
      "F1 score: 1.000\n"
     ]
    }
   ],
   "source": [
    "predicted_train = model.predict(X_train)\n",
    "\n",
    "accuracy_train = accuracy_score(y_train, predicted_train)\n",
    "auc = roc_auc_score(y_train, predicted_train)\n",
    "\n",
    "print(f'Accuracy: {accuracy_train:.3f}')\n",
    "print(f'AUC: {auc:.3f}')\n",
    "print(confusion_matrix(y_train, predicted_train))\n",
    "# print(confusion_matrix(y_test, predicted, normalize='true'))\n",
    "\n",
    "recall_train = round(recall_score(y_train, predicted_train), 2)\n",
    "print(f'recall: {recall_train:.3f}')\n",
    "precision_train = round(precision_score(y_train, predicted_train), 2)\n",
    "print(f'precision: {precision_train:.2f}')\n",
    "f1_train = f1_score(y_train, predicted_train)\n",
    "print(f'F1 score: {f1_train:.3f}' )"
   ]
  },
  {
   "cell_type": "code",
   "execution_count": 244,
   "metadata": {},
   "outputs": [
    {
     "name": "stdout",
     "output_type": "stream",
     "text": [
      "Accuracy: 0.998\n",
      "AUC: 0.500\n",
      "[[20564    18]\n",
      " [   18     0]]\n",
      "recall: 0.00000\n",
      "precision: 0.00000\n",
      "F1 score: 0.000000\n"
     ]
    }
   ],
   "source": [
    "predicted_test = model.predict(X_test)\n",
    "\n",
    "accuracy = accuracy_score(y_test, predicted_test)\n",
    "auc = roc_auc_score(y_test, predicted_test)\n",
    "\n",
    "print(f'Accuracy: {accuracy:.3f}')\n",
    "print(f'AUC: {auc:.3f}')\n",
    "print(confusion_matrix(y_test, predicted_test))\n",
    "\n",
    "recall = round(recall_score(y_test, predicted_test), 2)\n",
    "print(f'recall: {recall:.5f}')\n",
    "precision = round(precision_score(y_test, predicted_test), 2)\n",
    "print(f'precision: {precision:.5f}')\n",
    "f1 = f1_score(y_test, predicted_test)\n",
    "print(f'F1 score: {f1:.6f}' )"
   ]
  },
  {
   "cell_type": "code",
   "execution_count": 245,
   "metadata": {},
   "outputs": [
    {
     "name": "stdout",
     "output_type": "stream",
     "text": [
      "Accuracy: 0.998\n",
      "AUC: 0.599\n",
      "[[21452    29]\n",
      " [   12     3]]\n",
      "recall: 0.200\n",
      "precision: 0.09\n",
      "F1 score: 0.128\n"
     ]
    }
   ],
   "source": [
    "predicted_holdout = model.predict(X_holdout)\n",
    "\n",
    "accuracy = accuracy_score(y_holdout, predicted_holdout)\n",
    "auc = roc_auc_score(y_holdout, predicted_holdout)\n",
    "\n",
    "print(f'Accuracy: {accuracy:.3f}')\n",
    "print(f'AUC: {auc:.3f}')\n",
    "print(confusion_matrix(y_holdout, predicted_holdout))\n",
    "\n",
    "recall = round(recall_score(y_holdout, predicted_holdout), 2)\n",
    "print(f'recall: {recall:.3f}')\n",
    "precision = round(precision_score(y_holdout, predicted_holdout), 2)\n",
    "print(f'precision: {precision:.2f}')\n",
    "f1 = f1_score(y_holdout, predicted_holdout)\n",
    "print(f'F1 score: {f1:.3f}' )"
   ]
  },
  {
   "cell_type": "code",
   "execution_count": null,
   "metadata": {},
   "outputs": [],
   "source": []
  }
 ],
 "metadata": {
  "kernelspec": {
   "display_name": "Python 3.9.16 64-bit ('base': conda)",
   "language": "python",
   "name": "python3"
  },
  "language_info": {
   "codemirror_mode": {
    "name": "ipython",
    "version": 3
   },
   "file_extension": ".py",
   "mimetype": "text/x-python",
   "name": "python",
   "nbconvert_exporter": "python",
   "pygments_lexer": "ipython3",
   "version": "3.9.16"
  },
  "orig_nbformat": 4,
  "vscode": {
   "interpreter": {
    "hash": "d4d1e4263499bec80672ea0156c357c1ee493ec2b1c70f0acce89fc37c4a6abe"
   }
  }
 },
 "nbformat": 4,
 "nbformat_minor": 2
}
